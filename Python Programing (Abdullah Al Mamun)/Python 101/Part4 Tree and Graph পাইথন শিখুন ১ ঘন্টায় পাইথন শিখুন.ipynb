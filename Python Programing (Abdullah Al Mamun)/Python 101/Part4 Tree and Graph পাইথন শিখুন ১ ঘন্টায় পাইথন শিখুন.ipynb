{
 "cells": [
  {
   "cell_type": "code",
   "execution_count": null,
   "id": "f02408bc",
   "metadata": {},
   "outputs": [],
   "source": [
    "# Tree \n",
    "examples: family, google map, office organogram\n",
    "    root node, parent child\n",
    "    types: Tree vs Binary search tree BST\n",
    "    Tree traversal: pre, post, in order\n",
    "        \n",
    "        balance vs unbalance\n",
    "        heigh, level\n",
    "        \n",
    "        Tree implementation\n",
    "        "
   ]
  },
  {
   "cell_type": "code",
   "execution_count": 10,
   "id": "8f6668db",
   "metadata": {},
   "outputs": [
    {
     "name": "stdout",
     "output_type": "stream",
     "text": [
      "5\n",
      "100\n",
      "10\n",
      "3\n",
      "2\n",
      "15\n",
      "13\n"
     ]
    }
   ],
   "source": [
    "class TreeNode:\n",
    "    def __init__(self, val):\n",
    "        self.val = val\n",
    "        self.left, self.right = None, None\n",
    "        \n",
    "def traverse(root):\n",
    "    if root:\n",
    "        \n",
    "        traverse(root.left)\n",
    "        traverse(root.right)\n",
    "        print(root.val)\n",
    "        \n",
    "def main():\n",
    "    root = TreeNode(13)\n",
    "    \n",
    "    root.left = TreeNode(10)\n",
    "    root.right = TreeNode(15)\n",
    "    \n",
    "    root.left.left = TreeNode(5)\n",
    "    root.left.right = TreeNode(100)\n",
    "    \n",
    "    root.right.left = TreeNode(3)\n",
    "    root.right.right = TreeNode(2)\n",
    "    \n",
    "    traverse(root)\n",
    "main()\n",
    "    "
   ]
  }
 ],
 "metadata": {
  "celltoolbar": "Raw Cell Format",
  "kernelspec": {
   "display_name": "Python 3 (ipykernel)",
   "language": "python",
   "name": "python3"
  },
  "language_info": {
   "codemirror_mode": {
    "name": "ipython",
    "version": 3
   },
   "file_extension": ".py",
   "mimetype": "text/x-python",
   "name": "python",
   "nbconvert_exporter": "python",
   "pygments_lexer": "ipython3",
   "version": "3.11.5"
  }
 },
 "nbformat": 4,
 "nbformat_minor": 5
}
