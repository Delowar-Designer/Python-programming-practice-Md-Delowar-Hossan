{
 "cells": [
  {
   "cell_type": "code",
   "execution_count": 15,
   "id": "a07a00af",
   "metadata": {},
   "outputs": [
    {
     "name": "stdout",
     "output_type": "stream",
     "text": [
      "Delowar\n",
      "19\n",
      "{'name': 'Delowar', 'age': 19, 'grades': {'Bengli': 33, 'English': 45, 'math': 60.5}, '10': [10, 100, 1000]}\n",
      "45\n"
     ]
    }
   ],
   "source": [
    "# Hashmap\n",
    "#python dictionary\n",
    "\n",
    "list_num = [1,2,3,4,5,6,7,8,9,10]\n",
    "\n",
    "person= {\n",
    "    'name': \"Delowar\",\n",
    "    'age': 19,\n",
    "    'grades': {\"Bengli\": 33, \"English\": 45, \"math\" :60.5},\n",
    "    \"10\": [10, 100, 1000]\n",
    "}\n",
    "\n",
    "\n",
    "print(person[\"name\"])\n",
    "print(person[\"age\"])\n",
    "print(person)\n",
    "print(person['grades'][\"English\"])"
   ]
  },
  {
   "cell_type": "code",
   "execution_count": 14,
   "id": "599cece4",
   "metadata": {},
   "outputs": [
    {
     "name": "stdout",
     "output_type": "stream",
     "text": [
      "45\n"
     ]
    }
   ],
   "source": [
    "print(person['grades'][\"English\"])"
   ]
  },
  {
   "cell_type": "code",
   "execution_count": 16,
   "id": "96a02b3c",
   "metadata": {},
   "outputs": [
    {
     "name": "stdout",
     "output_type": "stream",
     "text": [
      "[10, 100, 1000]\n"
     ]
    }
   ],
   "source": [
    "print(person[\"10\"])"
   ]
  },
  {
   "cell_type": "code",
   "execution_count": 32,
   "id": "81cf7f5f",
   "metadata": {},
   "outputs": [
    {
     "ename": "NameError",
     "evalue": "name 'dic' is not defined",
     "output_type": "error",
     "traceback": [
      "\u001b[1;31m---------------------------------------------------------------------------\u001b[0m",
      "\u001b[1;31mNameError\u001b[0m                                 Traceback (most recent call last)",
      "Cell \u001b[1;32mIn[32], line 6\u001b[0m\n\u001b[0;32m      3\u001b[0m \u001b[38;5;66;03m#dic = num(list)\u001b[39;00m\n\u001b[0;32m      5\u001b[0m \u001b[38;5;28;01mfor\u001b[39;00m num \u001b[38;5;129;01min\u001b[39;00m nums:\n\u001b[1;32m----> 6\u001b[0m     dic[num\u001b[38;5;241m%\u001b[39m\u001b[38;5;241m2\u001b[39m]\u001b[38;5;241m.\u001b[39mappend(num)\n\u001b[0;32m      8\u001b[0m \u001b[38;5;28mprint\u001b[39m(dic)\n",
      "\u001b[1;31mNameError\u001b[0m: name 'dic' is not defined"
     ]
    }
   ],
   "source": [
    "nums = [1,2,3,4,5,6,7,8,9,10]\n",
    "\n",
    "#dic = num(list)\n",
    "\n",
    "for num in nums:\n",
    "    dic[num%2].append(num)\n",
    "    \n",
    "print(dic)"
   ]
  },
  {
   "cell_type": "code",
   "execution_count": 33,
   "id": "a4627bd5",
   "metadata": {},
   "outputs": [
    {
     "name": "stdout",
     "output_type": "stream",
     "text": [
      "name Delowar\n",
      "age 19\n",
      "grades {'Bengli': 33, 'English': 45, 'math': 60.5}\n",
      "10 [10, 100, 1000]\n"
     ]
    }
   ],
   "source": [
    "person= {\n",
    "    'name': \"Delowar\",\n",
    "    'age': 19,\n",
    "    'grades': {\"Bengli\": 33, \"English\": 45, \"math\" :60.5},\n",
    "    \"10\": [10, 100, 1000]\n",
    "}\n",
    "\n",
    "for key, val in person.items():\n",
    "    print(key, val)"
   ]
  }
 ],
 "metadata": {
  "kernelspec": {
   "display_name": "Python 3 (ipykernel)",
   "language": "python",
   "name": "python3"
  },
  "language_info": {
   "codemirror_mode": {
    "name": "ipython",
    "version": 3
   },
   "file_extension": ".py",
   "mimetype": "text/x-python",
   "name": "python",
   "nbconvert_exporter": "python",
   "pygments_lexer": "ipython3",
   "version": "3.11.5"
  }
 },
 "nbformat": 4,
 "nbformat_minor": 5
}
