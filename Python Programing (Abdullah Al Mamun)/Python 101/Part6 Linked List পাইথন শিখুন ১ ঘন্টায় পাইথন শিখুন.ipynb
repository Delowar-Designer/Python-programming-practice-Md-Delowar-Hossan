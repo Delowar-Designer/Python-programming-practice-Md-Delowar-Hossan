{
 "cells": [
  {
   "cell_type": "code",
   "execution_count": 4,
   "id": "63170c50",
   "metadata": {},
   "outputs": [
    {
     "ename": "NameError",
     "evalue": "name 'LinkedList' is not defined",
     "output_type": "error",
     "traceback": [
      "\u001b[1;31m---------------------------------------------------------------------------\u001b[0m",
      "\u001b[1;31mNameError\u001b[0m                                 Traceback (most recent call last)",
      "Cell \u001b[1;32mIn[4], line 25\u001b[0m\n\u001b[0;32m     21\u001b[0m         \u001b[38;5;28mprint\u001b[39m(\u001b[38;5;124m\"\u001b[39m\u001b[38;5;124mNone\u001b[39m\u001b[38;5;124m\"\u001b[39m)\n\u001b[0;32m     24\u001b[0m \u001b[38;5;66;03m# usage\u001b[39;00m\n\u001b[1;32m---> 25\u001b[0m my_linked_list \u001b[38;5;241m=\u001b[39m LinkedList()\n\u001b[0;32m     26\u001b[0m my_linked_list\u001b[38;5;241m.\u001b[39minsert_at_beginning(\u001b[38;5;241m4\u001b[39m)\n\u001b[0;32m     27\u001b[0m my_linked_list\u001b[38;5;241m.\u001b[39minsert_at_beginning(\u001b[38;5;241m3\u001b[39m)\n",
      "\u001b[1;31mNameError\u001b[0m: name 'LinkedList' is not defined"
     ]
    }
   ],
   "source": [
    "# Linked List\n",
    "class Node:\n",
    "    def __init__(self, data):\n",
    "        self.data = data\n",
    "        self.next = None\n",
    "    \n",
    "class LinkedKist:\n",
    "    def __init__(self):\n",
    "        self.head = None\n",
    "    \n",
    "    def insert_at_beginning(self, data):\n",
    "        new_node = Node(data)\n",
    "        new_node.next = self.head\n",
    "        self.head = new_node\n",
    "    \n",
    "    def display(self):\n",
    "        current = self.head\n",
    "        while current:\n",
    "            print(current.data, end=\" -> \")\n",
    "            current = current.next\n",
    "        print(\"None\")\n",
    "        \n",
    "        \n",
    "# usage\n",
    "my_linked_list = LinkedList()\n",
    "my_linked_list.insert_at_beginning(4)\n",
    "my_linked_list.insert_at_beginning(3)\n",
    "\n",
    "my_linked_list.display()"
   ]
  },
  {
   "cell_type": "code",
   "execution_count": 2,
   "id": "d830c576",
   "metadata": {},
   "outputs": [
    {
     "ename": "NameError",
     "evalue": "name 'my_linked_list' is not defined",
     "output_type": "error",
     "traceback": [
      "\u001b[1;31m---------------------------------------------------------------------------\u001b[0m",
      "\u001b[1;31mNameError\u001b[0m                                 Traceback (most recent call last)",
      "Cell \u001b[1;32mIn[2], line 1\u001b[0m\n\u001b[1;32m----> 1\u001b[0m my_linked_list\u001b[38;5;241m.\u001b[39minsert_at_beginning(\u001b[38;5;241m2\u001b[39m)\n\u001b[0;32m      2\u001b[0m my_linked_list\u001b[38;5;241m.\u001b[39mdisplay()\n",
      "\u001b[1;31mNameError\u001b[0m: name 'my_linked_list' is not defined"
     ]
    }
   ],
   "source": [
    "my_linked_list.insert_at_beginning(2)\n",
    "my_linked_list.display()"
   ]
  }
 ],
 "metadata": {
  "kernelspec": {
   "display_name": "Python 3 (ipykernel)",
   "language": "python",
   "name": "python3"
  },
  "language_info": {
   "codemirror_mode": {
    "name": "ipython",
    "version": 3
   },
   "file_extension": ".py",
   "mimetype": "text/x-python",
   "name": "python",
   "nbconvert_exporter": "python",
   "pygments_lexer": "ipython3",
   "version": "3.11.5"
  }
 },
 "nbformat": 4,
 "nbformat_minor": 5
}
