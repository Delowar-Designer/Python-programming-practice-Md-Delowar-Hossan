{
 "cells": [
  {
   "cell_type": "code",
   "execution_count": 27,
   "id": "15c92f01",
   "metadata": {},
   "outputs": [
    {
     "name": "stdout",
     "output_type": "stream",
     "text": [
      "size of stack 3\n"
     ]
    },
    {
     "data": {
      "text/plain": [
       "'stack = Stack()\\nstack.push(10)\\n\\nprint(\"size of the stack\", stack.size())\\nprint(\"pop of stack\", stack.is_empty())\\nprint(\"peek off the stack\", stack.peek())'"
      ]
     },
     "execution_count": 27,
     "metadata": {},
     "output_type": "execute_result"
    }
   ],
   "source": [
    "# stack\n",
    "# push, pop, sixe, is_empty, peek\n",
    "\n",
    "class Stack:\n",
    "    def __init__(self):\n",
    "        self.stack = []\n",
    "        \n",
    "    def is_empty(self):\n",
    "        return len(self.stack) == 0\n",
    "        \n",
    "    def push(self, item):\n",
    "        self.stack.append(item)\n",
    "        \n",
    "    def pop(self):\n",
    "        if self.stack.is_empty():\n",
    "            print(\"Stack is empty\")\n",
    "        else:\n",
    "            return self.stack.pop()\n",
    "    \n",
    "    def size(self):\n",
    "        return len(self.stack)\n",
    "    \n",
    "    def peek(self):\n",
    "        if self.is_empty():\n",
    "            print(\"Stack is empty\")\n",
    "        else:\n",
    "            return self.stack[-1]\n",
    "    \n",
    "    \n",
    "    \n",
    "s = Stack()\n",
    "s.push(10)\n",
    "s.push(20)\n",
    "s.push(30)\n",
    "\n",
    "print(\"size of stack\", s.size())\n",
    "\n",
    "'''stack = Stack()\n",
    "stack.push(10)\n",
    "\n",
    "print(\"size of the stack\", stack.size())\n",
    "print(\"pop of stack\", stack.is_empty())\n",
    "print(\"peek off the stack\", stack.peek())'''"
   ]
  },
  {
   "cell_type": "code",
   "execution_count": 28,
   "id": "c07fbe51",
   "metadata": {},
   "outputs": [
    {
     "ename": "AttributeError",
     "evalue": "'list' object has no attribute 'is_empty'",
     "output_type": "error",
     "traceback": [
      "\u001b[1;31m---------------------------------------------------------------------------\u001b[0m",
      "\u001b[1;31mAttributeError\u001b[0m                            Traceback (most recent call last)",
      "Cell \u001b[1;32mIn[28], line 1\u001b[0m\n\u001b[1;32m----> 1\u001b[0m \u001b[38;5;28mprint\u001b[39m(\u001b[38;5;124m\"\u001b[39m\u001b[38;5;124mpopped item\u001b[39m\u001b[38;5;124m\"\u001b[39m, s\u001b[38;5;241m.\u001b[39mpop())\n",
      "Cell \u001b[1;32mIn[27], line 15\u001b[0m, in \u001b[0;36mStack.pop\u001b[1;34m(self)\u001b[0m\n\u001b[0;32m     14\u001b[0m \u001b[38;5;28;01mdef\u001b[39;00m \u001b[38;5;21mpop\u001b[39m(\u001b[38;5;28mself\u001b[39m):\n\u001b[1;32m---> 15\u001b[0m     \u001b[38;5;28;01mif\u001b[39;00m \u001b[38;5;28mself\u001b[39m\u001b[38;5;241m.\u001b[39mstack\u001b[38;5;241m.\u001b[39mis_empty():\n\u001b[0;32m     16\u001b[0m         \u001b[38;5;28mprint\u001b[39m(\u001b[38;5;124m\"\u001b[39m\u001b[38;5;124mStack is empty\u001b[39m\u001b[38;5;124m\"\u001b[39m)\n\u001b[0;32m     17\u001b[0m     \u001b[38;5;28;01melse\u001b[39;00m:\n",
      "\u001b[1;31mAttributeError\u001b[0m: 'list' object has no attribute 'is_empty'"
     ]
    }
   ],
   "source": [
    "print(\"popped item\", s.pop())"
   ]
  },
  {
   "cell_type": "code",
   "execution_count": 29,
   "id": "ca63836e",
   "metadata": {},
   "outputs": [
    {
     "name": "stdout",
     "output_type": "stream",
     "text": [
      "size of the stack 1\n"
     ]
    }
   ],
   "source": [
    "print(\"size of the stack\", stack.size())"
   ]
  },
  {
   "cell_type": "code",
   "execution_count": null,
   "id": "1e299c2d",
   "metadata": {},
   "outputs": [],
   "source": [
    "p"
   ]
  }
 ],
 "metadata": {
  "kernelspec": {
   "display_name": "Python 3 (ipykernel)",
   "language": "python",
   "name": "python3"
  },
  "language_info": {
   "codemirror_mode": {
    "name": "ipython",
    "version": 3
   },
   "file_extension": ".py",
   "mimetype": "text/x-python",
   "name": "python",
   "nbconvert_exporter": "python",
   "pygments_lexer": "ipython3",
   "version": "3.11.5"
  }
 },
 "nbformat": 4,
 "nbformat_minor": 5
}
