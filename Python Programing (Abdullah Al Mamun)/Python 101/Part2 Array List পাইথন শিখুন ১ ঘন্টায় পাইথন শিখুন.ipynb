{
 "cells": [
  {
   "cell_type": "code",
   "execution_count": 29,
   "id": "de721f75",
   "metadata": {},
   "outputs": [
    {
     "ename": "SyntaxError",
     "evalue": "invalid syntax (1250196200.py, line 2)",
     "output_type": "error",
     "traceback": [
      "\u001b[1;36m  Cell \u001b[1;32mIn[29], line 2\u001b[1;36m\u001b[0m\n\u001b[1;33m    Topic:\u001b[0m\n\u001b[1;37m          ^\u001b[0m\n\u001b[1;31mSyntaxError\u001b[0m\u001b[1;31m:\u001b[0m invalid syntax\n"
     ]
    }
   ],
   "source": [
    "# Array and List\n",
    "Topic:\n",
    "    1. Array/List\n",
    "    2. Hashmap\n",
    "    3. Tree/Graph\n",
    "    4. Heap/Q\n",
    "    5. String"
   ]
  },
  {
   "cell_type": "code",
   "execution_count": null,
   "id": "c273d973",
   "metadata": {},
   "outputs": [],
   "source": []
  },
  {
   "cell_type": "code",
   "execution_count": 32,
   "id": "cffd07ec",
   "metadata": {},
   "outputs": [
    {
     "name": "stdout",
     "output_type": "stream",
     "text": [
      "[0, 1, 2, 3, 4, 5, 6]\n",
      "['daal', 'rice', 'deef']\n"
     ]
    }
   ],
   "source": [
    "shopping_list = [\"daal\", \"rice\", \"deef\"]\n",
    "\n",
    "int_list = [0,1,2,3,4,5,6]\n",
    "print(int_list)\n",
    "print(shopping_list)"
   ]
  },
  {
   "cell_type": "code",
   "execution_count": 33,
   "id": "fb0a680f",
   "metadata": {},
   "outputs": [
    {
     "name": "stdout",
     "output_type": "stream",
     "text": [
      "2\n",
      "6\n",
      "[3, 4]\n",
      "[0, 1, 2, 3, 4, 5, 6]\n"
     ]
    }
   ],
   "source": [
    "int_list = [0,1,2,3,4,5,6]\n",
    "\n",
    "print(int_list[2])\n",
    "print(int_list[-1])\n",
    "print(int_list[3:5])\n",
    "print(int_list[:])"
   ]
  },
  {
   "cell_type": "code",
   "execution_count": 34,
   "id": "4a202b69",
   "metadata": {},
   "outputs": [
    {
     "name": "stdout",
     "output_type": "stream",
     "text": [
      "6\n",
      "0\n",
      "21\n",
      "21\n"
     ]
    }
   ],
   "source": [
    "max_value = max(int_list)\n",
    "print(max_value)\n",
    "max_value = min(int_list)\n",
    "print(max_value)\n",
    "max_value = sum(int_list)\n",
    "print(max_value)\n",
    "print(sum(int_list))"
   ]
  },
  {
   "cell_type": "code",
   "execution_count": 36,
   "id": "79003734",
   "metadata": {},
   "outputs": [
    {
     "name": "stdout",
     "output_type": "stream",
     "text": [
      "6\n"
     ]
    }
   ],
   "source": [
    "int_list1 = [0,1,2,100,3,4,5,10]\n",
    "max_value = int_list1[0]\n",
    "\n",
    "for val in int_list:\n",
    "    if val > max_value:\n",
    "        max_value = val\n",
    "print(max_value)"
   ]
  },
  {
   "cell_type": "code",
   "execution_count": null,
   "id": "e1f82f5e",
   "metadata": {},
   "outputs": [],
   "source": []
  }
 ],
 "metadata": {
  "kernelspec": {
   "display_name": "Python 3 (ipykernel)",
   "language": "python",
   "name": "python3"
  },
  "language_info": {
   "codemirror_mode": {
    "name": "ipython",
    "version": 3
   },
   "file_extension": ".py",
   "mimetype": "text/x-python",
   "name": "python",
   "nbconvert_exporter": "python",
   "pygments_lexer": "ipython3",
   "version": "3.11.5"
  }
 },
 "nbformat": 4,
 "nbformat_minor": 5
}
