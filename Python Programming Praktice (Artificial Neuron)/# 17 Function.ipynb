{
 "cells": [
  {
   "cell_type": "code",
   "execution_count": 7,
   "id": "0e706562",
   "metadata": {},
   "outputs": [],
   "source": [
    "def greeting(name= 'Mitu'):\n",
    "    print(\"Hello \"+ name+\"! I am from Bangladesh\")"
   ]
  },
  {
   "cell_type": "code",
   "execution_count": 8,
   "id": "8c502581",
   "metadata": {},
   "outputs": [
    {
     "name": "stdout",
     "output_type": "stream",
     "text": [
      "Hello Delowar! I am from Bangladesh\n"
     ]
    }
   ],
   "source": [
    "greeting('Delowar');"
   ]
  },
  {
   "cell_type": "code",
   "execution_count": null,
   "id": "bba39f35",
   "metadata": {},
   "outputs": [],
   "source": []
  },
  {
   "cell_type": "code",
   "execution_count": 6,
   "id": "e2cda0e2",
   "metadata": {},
   "outputs": [
    {
     "name": "stdout",
     "output_type": "stream",
     "text": [
      "HelloDelowar! I am from Bangladesh\n"
     ]
    }
   ],
   "source": [
    "greeting('Delowar');"
   ]
  },
  {
   "cell_type": "code",
   "execution_count": null,
   "id": "d7a18c89",
   "metadata": {},
   "outputs": [],
   "source": []
  },
  {
   "cell_type": "code",
   "execution_count": 9,
   "id": "392bb129",
   "metadata": {},
   "outputs": [
    {
     "name": "stdout",
     "output_type": "stream",
     "text": [
      "Hello Mitu! I am from Bangladesh\n"
     ]
    }
   ],
   "source": [
    "greeting();"
   ]
  },
  {
   "cell_type": "code",
   "execution_count": null,
   "id": "9be1490c",
   "metadata": {},
   "outputs": [],
   "source": []
  },
  {
   "cell_type": "code",
   "execution_count": 4,
   "id": "36047a9e",
   "metadata": {},
   "outputs": [
    {
     "name": "stdout",
     "output_type": "stream",
     "text": [
      "Hello ther! I am from Bangladesh\n"
     ]
    }
   ],
   "source": [
    "greeting();"
   ]
  },
  {
   "cell_type": "code",
   "execution_count": null,
   "id": "ae10f7a9",
   "metadata": {},
   "outputs": [],
   "source": []
  },
  {
   "cell_type": "code",
   "execution_count": 10,
   "id": "be6a40a5",
   "metadata": {},
   "outputs": [],
   "source": [
    "def info(name = 'Delowar', age = 19):\n",
    "    print(\"Hi {0}! you are {1} years old\".format(name, age))"
   ]
  },
  {
   "cell_type": "code",
   "execution_count": 15,
   "id": "e3cf5349",
   "metadata": {},
   "outputs": [
    {
     "name": "stdout",
     "output_type": "stream",
     "text": [
      "Enter your name:hie\n",
      "Enterr your age:ljsl\n"
     ]
    },
    {
     "ename": "ValueError",
     "evalue": "invalid literal for int() with base 10: 'ljsl'",
     "output_type": "error",
     "traceback": [
      "\u001b[1;31m---------------------------------------------------------------------------\u001b[0m",
      "\u001b[1;31mValueError\u001b[0m                                Traceback (most recent call last)",
      "Cell \u001b[1;32mIn[15], line 1\u001b[0m\n\u001b[1;32m----> 1\u001b[0m info()\n",
      "Cell \u001b[1;32mIn[10], line 3\u001b[0m, in \u001b[0;36minfo\u001b[1;34m(name, age)\u001b[0m\n\u001b[0;32m      1\u001b[0m \u001b[38;5;28;01mdef\u001b[39;00m \u001b[38;5;21minfo\u001b[39m(name \u001b[38;5;241m=\u001b[39m \u001b[38;5;124m'\u001b[39m\u001b[38;5;124mDelowar\u001b[39m\u001b[38;5;124m'\u001b[39m, age \u001b[38;5;241m=\u001b[39m \u001b[38;5;241m19\u001b[39m):\n\u001b[0;32m      2\u001b[0m     name \u001b[38;5;241m=\u001b[39m \u001b[38;5;28minput\u001b[39m(\u001b[38;5;124m'\u001b[39m\u001b[38;5;124mEnter your name:\u001b[39m\u001b[38;5;124m'\u001b[39m)\n\u001b[1;32m----> 3\u001b[0m     ane \u001b[38;5;241m=\u001b[39m \u001b[38;5;28mint\u001b[39m(\u001b[38;5;28minput\u001b[39m(\u001b[38;5;124m'\u001b[39m\u001b[38;5;124mEnterr your age:\u001b[39m\u001b[38;5;124m'\u001b[39m))\n\u001b[0;32m      4\u001b[0m     \u001b[38;5;28mprint\u001b[39m(\u001b[38;5;124m\"\u001b[39m\u001b[38;5;124mHi \u001b[39m\u001b[38;5;132;01m{0}\u001b[39;00m\u001b[38;5;124m! you are \u001b[39m\u001b[38;5;132;01m{1}\u001b[39;00m\u001b[38;5;124m years old\u001b[39m\u001b[38;5;124m\"\u001b[39m\u001b[38;5;241m.\u001b[39mformat(name, age))\n",
      "\u001b[1;31mValueError\u001b[0m: invalid literal for int() with base 10: 'ljsl'"
     ]
    }
   ],
   "source": [
    "info();"
   ]
  },
  {
   "cell_type": "code",
   "execution_count": null,
   "id": "b9381140",
   "metadata": {},
   "outputs": [],
   "source": []
  },
  {
   "cell_type": "code",
   "execution_count": null,
   "id": "2b077665",
   "metadata": {},
   "outputs": [],
   "source": []
  },
  {
   "cell_type": "code",
   "execution_count": null,
   "id": "d4ddd54e",
   "metadata": {},
   "outputs": [],
   "source": []
  },
  {
   "cell_type": "code",
   "execution_count": null,
   "id": "a07da69c",
   "metadata": {},
   "outputs": [],
   "source": []
  },
  {
   "cell_type": "code",
   "execution_count": null,
   "id": "01a2a8ac",
   "metadata": {},
   "outputs": [],
   "source": []
  }
 ],
 "metadata": {
  "kernelspec": {
   "display_name": "Python 3 (ipykernel)",
   "language": "python",
   "name": "python3"
  },
  "language_info": {
   "codemirror_mode": {
    "name": "ipython",
    "version": 3
   },
   "file_extension": ".py",
   "mimetype": "text/x-python",
   "name": "python",
   "nbconvert_exporter": "python",
   "pygments_lexer": "ipython3",
   "version": "3.11.5"
  }
 },
 "nbformat": 4,
 "nbformat_minor": 5
}
