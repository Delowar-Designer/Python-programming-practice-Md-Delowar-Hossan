{
 "cells": [
  {
   "cell_type": "code",
   "execution_count": 10,
   "id": "a41961c3",
   "metadata": {},
   "outputs": [],
   "source": [
    "import turtle as t"
   ]
  },
  {
   "cell_type": "code",
   "execution_count": 11,
   "id": "f11554a0",
   "metadata": {},
   "outputs": [
    {
     "ename": "Terminator",
     "evalue": "",
     "output_type": "error",
     "traceback": [
      "\u001b[1;31m---------------------------------------------------------------------------\u001b[0m",
      "\u001b[1;31mTerminator\u001b[0m                                Traceback (most recent call last)",
      "Cell \u001b[1;32mIn[11], line 2\u001b[0m\n\u001b[0;32m      1\u001b[0m t\u001b[38;5;241m.\u001b[39mfillcolor(\u001b[38;5;124m'\u001b[39m\u001b[38;5;124mgreen\u001b[39m\u001b[38;5;124m'\u001b[39m)\n\u001b[1;32m----> 2\u001b[0m t\u001b[38;5;241m.\u001b[39mbegin_fill()\n\u001b[0;32m      3\u001b[0m t\u001b[38;5;241m.\u001b[39mfd(\u001b[38;5;241m150\u001b[39m)\n\u001b[0;32m      4\u001b[0m t\u001b[38;5;241m.\u001b[39mleft(\u001b[38;5;241m90\u001b[39m)\n",
      "File \u001b[1;32m<string>:5\u001b[0m, in \u001b[0;36mbegin_fill\u001b[1;34m()\u001b[0m\n",
      "\u001b[1;31mTerminator\u001b[0m: "
     ]
    }
   ],
   "source": [
    "t.fillcolor('green')\n",
    "t.begin_fill()\n",
    "t.fd(150)\n",
    "t.left(90)"
   ]
  },
  {
   "cell_type": "code",
   "execution_count": 12,
   "id": "d5c772c8",
   "metadata": {},
   "outputs": [],
   "source": [
    "t.fd(150)\n",
    "t.left(90)\n",
    "t.fd(150)\n",
    "t.left(90)\n",
    "t.fd(150)\n",
    "t.left(90)\n",
    "t.fd(150)\n",
    "t.left(90)\n",
    "t.end_fill()"
   ]
  },
  {
   "cell_type": "code",
   "execution_count": 13,
   "id": "a475dbd8",
   "metadata": {},
   "outputs": [
    {
     "data": {
      "text/plain": [
       "(-0.00,0.00)"
      ]
     },
     "execution_count": 13,
     "metadata": {},
     "output_type": "execute_result"
    }
   ],
   "source": [
    "t.pos()"
   ]
  },
  {
   "cell_type": "code",
   "execution_count": 14,
   "id": "10077394",
   "metadata": {},
   "outputs": [],
   "source": [
    "t.setpos(75, 40)"
   ]
  },
  {
   "cell_type": "code",
   "execution_count": 15,
   "id": "2a0f454d",
   "metadata": {},
   "outputs": [],
   "source": [
    "t.fillcolor('red')\n",
    "t.begin_fill()\n",
    "t.circle(40)\n",
    "t.end_fill()"
   ]
  },
  {
   "cell_type": "code",
   "execution_count": null,
   "id": "186a9e41",
   "metadata": {},
   "outputs": [],
   "source": []
  }
 ],
 "metadata": {
  "kernelspec": {
   "display_name": "Python 3 (ipykernel)",
   "language": "python",
   "name": "python3"
  },
  "language_info": {
   "codemirror_mode": {
    "name": "ipython",
    "version": 3
   },
   "file_extension": ".py",
   "mimetype": "text/x-python",
   "name": "python",
   "nbconvert_exporter": "python",
   "pygments_lexer": "ipython3",
   "version": "3.11.5"
  }
 },
 "nbformat": 4,
 "nbformat_minor": 5
}
