{
 "cells": [
  {
   "cell_type": "code",
   "execution_count": 1,
   "id": "eca2bbdf",
   "metadata": {},
   "outputs": [
    {
     "name": "stdout",
     "output_type": "stream",
     "text": [
      "This is my ffirst if-else program\n"
     ]
    }
   ],
   "source": [
    "if True:\n",
    "    print(\"This is my ffirst if-else program\")"
   ]
  },
  {
   "cell_type": "code",
   "execution_count": 2,
   "id": "116a6c0d",
   "metadata": {},
   "outputs": [],
   "source": [
    "if False:\n",
    "    print(\"This is my first if-else program\")"
   ]
  },
  {
   "cell_type": "code",
   "execution_count": 3,
   "id": "7997f88b",
   "metadata": {},
   "outputs": [
    {
     "name": "stdout",
     "output_type": "stream",
     "text": [
      "2 is greater than 1\n"
     ]
    }
   ],
   "source": [
    "if 2>1:\n",
    "    print(\"2 is greater than 1\")"
   ]
  },
  {
   "cell_type": "code",
   "execution_count": 4,
   "id": "41c1c469",
   "metadata": {},
   "outputs": [],
   "source": [
    "a = 2\n",
    "b = 5"
   ]
  },
  {
   "cell_type": "code",
   "execution_count": 5,
   "id": "5eddea38",
   "metadata": {},
   "outputs": [
    {
     "name": "stdout",
     "output_type": "stream",
     "text": [
      "a is less than b\n"
     ]
    }
   ],
   "source": [
    "if a>b:\n",
    "    print(\"a is greater than b\")\n",
    "else:\n",
    "    print(\"a is less than b\")"
   ]
  },
  {
   "cell_type": "code",
   "execution_count": 6,
   "id": "cf2c0280",
   "metadata": {
    "scrolled": true
   },
   "outputs": [
    {
     "name": "stdout",
     "output_type": "stream",
     "text": [
      "a is less than b\n"
     ]
    }
   ],
   "source": [
    "if a<b:\n",
    "    print(\"a is less than b\")\n",
    "elif a==b:\n",
    "    print(\"a is equal to b\")\n",
    "else:\n",
    "    print(\"a is gteater than b\")"
   ]
  },
  {
   "cell_type": "code",
   "execution_count": null,
   "id": "e44953b8",
   "metadata": {},
   "outputs": [],
   "source": []
  }
 ],
 "metadata": {
  "kernelspec": {
   "display_name": "Python 3 (ipykernel)",
   "language": "python",
   "name": "python3"
  },
  "language_info": {
   "codemirror_mode": {
    "name": "ipython",
    "version": 3
   },
   "file_extension": ".py",
   "mimetype": "text/x-python",
   "name": "python",
   "nbconvert_exporter": "python",
   "pygments_lexer": "ipython3",
   "version": "3.11.5"
  }
 },
 "nbformat": 4,
 "nbformat_minor": 5
}
