{
 "cells": [
  {
   "cell_type": "code",
   "execution_count": 4,
   "id": "9a241458",
   "metadata": {},
   "outputs": [
    {
     "name": "stdout",
     "output_type": "stream",
     "text": [
      "Whats your play? Rock, paperr of Scissors?spoook\n",
      "Your innput is not valid. Spell correctly.\n"
     ]
    }
   ],
   "source": [
    "from random import randint\n",
    "option_list = ['Rock', 'Paper', 'Scissors']\n",
    "computer = option_list[randint(0,2)]\n",
    "player = input(\"Whats your play? Rock, paperr of Scissors?\")\n",
    "\n",
    "if player == computer:\n",
    "    print(\"Tie!\")\n",
    "elif player == 'Rock':\n",
    "    if computer == 'Paper':\n",
    "        print(\"You Lose!\")\n",
    "    else:\n",
    "        print(\"You Win!!\")\n",
    "        \n",
    "elif player == 'Paper':\n",
    "    if computer == 'Scissors':\n",
    "        print(\"You Lose!\")\n",
    "    else:\n",
    "        print(\"You Win!!\")\n",
    "    \n",
    "elif player == 'Scissors':\n",
    "    if computer == 'Rock':\n",
    "        print(\"You Lose!\")\n",
    "    else:\n",
    "        print(\"You Win!!\")\n",
    "else:\n",
    "    print(\"Your innput is not valid. Spell correctly.\")"
   ]
  },
  {
   "cell_type": "code",
   "execution_count": null,
   "id": "744e32d3",
   "metadata": {},
   "outputs": [],
   "source": []
  },
  {
   "cell_type": "code",
   "execution_count": 3,
   "id": "0fb66e58",
   "metadata": {},
   "outputs": [
    {
     "data": {
      "text/plain": [
       "'Paper'"
      ]
     },
     "execution_count": 3,
     "metadata": {},
     "output_type": "execute_result"
    }
   ],
   "source": [
    "computer"
   ]
  },
  {
   "cell_type": "code",
   "execution_count": null,
   "id": "bb2cfb0e",
   "metadata": {},
   "outputs": [],
   "source": []
  },
  {
   "cell_type": "code",
   "execution_count": null,
   "id": "2db3b5fc",
   "metadata": {},
   "outputs": [],
   "source": []
  }
 ],
 "metadata": {
  "kernelspec": {
   "display_name": "Python 3 (ipykernel)",
   "language": "python",
   "name": "python3"
  },
  "language_info": {
   "codemirror_mode": {
    "name": "ipython",
    "version": 3
   },
   "file_extension": ".py",
   "mimetype": "text/x-python",
   "name": "python",
   "nbconvert_exporter": "python",
   "pygments_lexer": "ipython3",
   "version": "3.11.5"
  }
 },
 "nbformat": 4,
 "nbformat_minor": 5
}
