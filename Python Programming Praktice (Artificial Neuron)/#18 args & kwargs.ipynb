{
 "cells": [
  {
   "cell_type": "code",
   "execution_count": 4,
   "id": "29af9162",
   "metadata": {},
   "outputs": [],
   "source": [
    "def addnumber(num1, num2, num3):\n",
    "    return sum((num1, num2, num3))"
   ]
  },
  {
   "cell_type": "code",
   "execution_count": 8,
   "id": "ec683c32",
   "metadata": {},
   "outputs": [
    {
     "ename": "TypeError",
     "evalue": "addnumber() takes 2 positional arguments but 3 were given",
     "output_type": "error",
     "traceback": [
      "\u001b[1;31m---------------------------------------------------------------------------\u001b[0m",
      "\u001b[1;31mTypeError\u001b[0m                                 Traceback (most recent call last)",
      "Cell \u001b[1;32mIn[8], line 1\u001b[0m\n\u001b[1;32m----> 1\u001b[0m addnumber(\u001b[38;5;241m10\u001b[39m, \u001b[38;5;241m20\u001b[39m, \u001b[38;5;241m2\u001b[39m)\n",
      "\u001b[1;31mTypeError\u001b[0m: addnumber() takes 2 positional arguments but 3 were given"
     ]
    }
   ],
   "source": [
    "addnumber(10, 20, 2)"
   ]
  },
  {
   "cell_type": "code",
   "execution_count": 13,
   "id": "1f59fd59",
   "metadata": {},
   "outputs": [],
   "source": [
    "def addnumber(*x):\n",
    "    return sum((x))"
   ]
  },
  {
   "cell_type": "code",
   "execution_count": null,
   "id": "472f289e",
   "metadata": {},
   "outputs": [],
   "source": []
  },
  {
   "cell_type": "code",
   "execution_count": 14,
   "id": "44455f8c",
   "metadata": {},
   "outputs": [
    {
     "data": {
      "text/plain": [
       "336"
      ]
     },
     "execution_count": 14,
     "metadata": {},
     "output_type": "execute_result"
    }
   ],
   "source": [
    "addnumber(20,23,293)"
   ]
  },
  {
   "cell_type": "code",
   "execution_count": 18,
   "id": "fc6c5b84",
   "metadata": {},
   "outputs": [],
   "source": [
    "def intro(**kwargs):\n",
    "    for key,value in kwargs.items():\n",
    "        print(\"{} is {}\".format(key, value))"
   ]
  },
  {
   "cell_type": "code",
   "execution_count": null,
   "id": "e13bd160",
   "metadata": {},
   "outputs": [],
   "source": []
  },
  {
   "cell_type": "code",
   "execution_count": 19,
   "id": "17b8b60a",
   "metadata": {},
   "outputs": [
    {
     "name": "stdout",
     "output_type": "stream",
     "text": [
      "Name is Delowar\n",
      "Age is 19\n",
      "Institute is DPI\n",
      "Dept is CST\n"
     ]
    }
   ],
   "source": [
    "intro(Name = 'Delowar', Age = '19', Institute = 'DPI', Dept = 'CST')"
   ]
  },
  {
   "cell_type": "code",
   "execution_count": null,
   "id": "c2751ae1",
   "metadata": {},
   "outputs": [],
   "source": []
  },
  {
   "cell_type": "code",
   "execution_count": null,
   "id": "70890890",
   "metadata": {},
   "outputs": [],
   "source": []
  },
  {
   "cell_type": "code",
   "execution_count": null,
   "id": "a8b5f0f3",
   "metadata": {},
   "outputs": [],
   "source": []
  },
  {
   "cell_type": "code",
   "execution_count": null,
   "id": "81c4f857",
   "metadata": {},
   "outputs": [],
   "source": []
  },
  {
   "cell_type": "code",
   "execution_count": null,
   "id": "4f31aa2f",
   "metadata": {},
   "outputs": [],
   "source": []
  }
 ],
 "metadata": {
  "kernelspec": {
   "display_name": "Python 3 (ipykernel)",
   "language": "python",
   "name": "python3"
  },
  "language_info": {
   "codemirror_mode": {
    "name": "ipython",
    "version": 3
   },
   "file_extension": ".py",
   "mimetype": "text/x-python",
   "name": "python",
   "nbconvert_exporter": "python",
   "pygments_lexer": "ipython3",
   "version": "3.11.5"
  }
 },
 "nbformat": 4,
 "nbformat_minor": 5
}
