{
 "cells": [
  {
   "cell_type": "code",
   "execution_count": 1,
   "id": "a7196120",
   "metadata": {},
   "outputs": [],
   "source": [
    "info = {'Name': 'Mitu', 'Institution':'DGOV', 'Dept':'Bangla'}"
   ]
  },
  {
   "cell_type": "code",
   "execution_count": 2,
   "id": "3160be35",
   "metadata": {},
   "outputs": [
    {
     "data": {
      "text/plain": [
       "{'Name': 'Mitu', 'Institution': 'DGOV', 'Dept': 'Bangla'}"
      ]
     },
     "execution_count": 2,
     "metadata": {},
     "output_type": "execute_result"
    }
   ],
   "source": [
    "info"
   ]
  },
  {
   "cell_type": "code",
   "execution_count": 3,
   "id": "5348d62d",
   "metadata": {},
   "outputs": [],
   "source": [
    "my_dict = {}"
   ]
  },
  {
   "cell_type": "code",
   "execution_count": 4,
   "id": "1072264f",
   "metadata": {},
   "outputs": [],
   "source": [
    "my_dict[0] = \"Programer Delowar\"\n",
    "my_dict[1] = \"Delowar.Designer\""
   ]
  },
  {
   "cell_type": "code",
   "execution_count": 5,
   "id": "212846f8",
   "metadata": {},
   "outputs": [
    {
     "data": {
      "text/plain": [
       "{0: 'Programer Delowar', 1: 'Delowar.Designer'}"
      ]
     },
     "execution_count": 5,
     "metadata": {},
     "output_type": "execute_result"
    }
   ],
   "source": [
    "my_dict"
   ]
  },
  {
   "cell_type": "code",
   "execution_count": 6,
   "id": "11ad1567",
   "metadata": {},
   "outputs": [],
   "source": [
    "my_dict['List'] = 0, 1, 2, 3"
   ]
  },
  {
   "cell_type": "code",
   "execution_count": 7,
   "id": "c6cb7430",
   "metadata": {},
   "outputs": [
    {
     "data": {
      "text/plain": [
       "{0: 'Programer Delowar', 1: 'Delowar.Designer', 'List': (0, 1, 2, 3)}"
      ]
     },
     "execution_count": 7,
     "metadata": {},
     "output_type": "execute_result"
    }
   ],
   "source": [
    "my_dict"
   ]
  },
  {
   "cell_type": "code",
   "execution_count": 8,
   "id": "1f091de8",
   "metadata": {},
   "outputs": [],
   "source": [
    "my_dict['Dictionary'] = {'d1':'a', 'd2': 'b'}"
   ]
  },
  {
   "cell_type": "code",
   "execution_count": 9,
   "id": "f4fd5abd",
   "metadata": {},
   "outputs": [
    {
     "data": {
      "text/plain": [
       "{0: 'Programer Delowar',\n",
       " 1: 'Delowar.Designer',\n",
       " 'List': (0, 1, 2, 3),\n",
       " 'Dictionary': {'d1': 'a', 'd2': 'b'}}"
      ]
     },
     "execution_count": 9,
     "metadata": {},
     "output_type": "execute_result"
    }
   ],
   "source": [
    "my_dict"
   ]
  },
  {
   "cell_type": "code",
   "execution_count": 10,
   "id": "993e2a62",
   "metadata": {},
   "outputs": [
    {
     "data": {
      "text/plain": [
       "{'Name': 'Mitu', 'Institution': 'DGOV', 'Dept': 'Bangla'}"
      ]
     },
     "execution_count": 10,
     "metadata": {},
     "output_type": "execute_result"
    }
   ],
   "source": [
    "info"
   ]
  },
  {
   "cell_type": "code",
   "execution_count": 11,
   "id": "642c3ba4",
   "metadata": {},
   "outputs": [
    {
     "data": {
      "text/plain": [
       "'Mitu'"
      ]
     },
     "execution_count": 11,
     "metadata": {},
     "output_type": "execute_result"
    }
   ],
   "source": [
    "info['Name']"
   ]
  },
  {
   "cell_type": "code",
   "execution_count": 12,
   "id": "e1ae9d30",
   "metadata": {},
   "outputs": [
    {
     "data": {
      "text/plain": [
       "'DGOV'"
      ]
     },
     "execution_count": 12,
     "metadata": {},
     "output_type": "execute_result"
    }
   ],
   "source": [
    "info['Institution']"
   ]
  },
  {
   "cell_type": "code",
   "execution_count": 13,
   "id": "8a40958d",
   "metadata": {},
   "outputs": [
    {
     "data": {
      "text/plain": [
       "'Bangla'"
      ]
     },
     "execution_count": 13,
     "metadata": {},
     "output_type": "execute_result"
    }
   ],
   "source": [
    "info['Dept']"
   ]
  },
  {
   "cell_type": "code",
   "execution_count": 14,
   "id": "35ac3626",
   "metadata": {},
   "outputs": [
    {
     "data": {
      "text/plain": [
       "'a'"
      ]
     },
     "execution_count": 14,
     "metadata": {},
     "output_type": "execute_result"
    }
   ],
   "source": [
    "my_dict['Dictionary']['d1']"
   ]
  },
  {
   "cell_type": "code",
   "execution_count": 15,
   "id": "8d42991c",
   "metadata": {},
   "outputs": [
    {
     "data": {
      "text/plain": [
       "'b'"
      ]
     },
     "execution_count": 15,
     "metadata": {},
     "output_type": "execute_result"
    }
   ],
   "source": [
    "my_dict['Dictionary']['d2']"
   ]
  },
  {
   "cell_type": "code",
   "execution_count": 16,
   "id": "6a1c9737",
   "metadata": {},
   "outputs": [],
   "source": [
    "del my_dict['List']"
   ]
  },
  {
   "cell_type": "code",
   "execution_count": 17,
   "id": "c25d4211",
   "metadata": {},
   "outputs": [
    {
     "data": {
      "text/plain": [
       "{0: 'Programer Delowar',\n",
       " 1: 'Delowar.Designer',\n",
       " 'Dictionary': {'d1': 'a', 'd2': 'b'}}"
      ]
     },
     "execution_count": 17,
     "metadata": {},
     "output_type": "execute_result"
    }
   ],
   "source": [
    "my_dict"
   ]
  },
  {
   "cell_type": "code",
   "execution_count": 18,
   "id": "b10dd9a7",
   "metadata": {},
   "outputs": [
    {
     "data": {
      "text/plain": [
       "{'Name': 'Mitu', 'Institution': 'DGOV', 'Dept': 'Bangla'}"
      ]
     },
     "execution_count": 18,
     "metadata": {},
     "output_type": "execute_result"
    }
   ],
   "source": [
    "info"
   ]
  },
  {
   "cell_type": "code",
   "execution_count": 19,
   "id": "8b320376",
   "metadata": {},
   "outputs": [
    {
     "data": {
      "text/plain": [
       "'Mitu'"
      ]
     },
     "execution_count": 19,
     "metadata": {},
     "output_type": "execute_result"
    }
   ],
   "source": [
    "info.get('Name')"
   ]
  },
  {
   "cell_type": "code",
   "execution_count": 20,
   "id": "c6ad0282",
   "metadata": {},
   "outputs": [
    {
     "data": {
      "text/plain": [
       "'Bangla'"
      ]
     },
     "execution_count": 20,
     "metadata": {},
     "output_type": "execute_result"
    }
   ],
   "source": [
    "info.get('Dept')"
   ]
  },
  {
   "cell_type": "code",
   "execution_count": 21,
   "id": "6adc6751",
   "metadata": {},
   "outputs": [
    {
     "data": {
      "text/plain": [
       "{'d1': 'a', 'd2': 'b'}"
      ]
     },
     "execution_count": 21,
     "metadata": {},
     "output_type": "execute_result"
    }
   ],
   "source": [
    "my_dict.get('Dictionary')"
   ]
  },
  {
   "cell_type": "code",
   "execution_count": 22,
   "id": "6fedd877",
   "metadata": {},
   "outputs": [
    {
     "data": {
      "text/plain": [
       "dict_keys([0, 1, 'Dictionary'])"
      ]
     },
     "execution_count": 22,
     "metadata": {},
     "output_type": "execute_result"
    }
   ],
   "source": [
    "my_dict.keys()"
   ]
  },
  {
   "cell_type": "code",
   "execution_count": 23,
   "id": "13fda274",
   "metadata": {},
   "outputs": [
    {
     "data": {
      "text/plain": [
       "dict_keys(['Name', 'Institution', 'Dept'])"
      ]
     },
     "execution_count": 23,
     "metadata": {},
     "output_type": "execute_result"
    }
   ],
   "source": [
    "info.keys()"
   ]
  },
  {
   "cell_type": "code",
   "execution_count": 24,
   "id": "a37875f5",
   "metadata": {},
   "outputs": [
    {
     "data": {
      "text/plain": [
       "dict_values(['Mitu', 'DGOV', 'Bangla'])"
      ]
     },
     "execution_count": 24,
     "metadata": {},
     "output_type": "execute_result"
    }
   ],
   "source": [
    "info.values()"
   ]
  },
  {
   "cell_type": "code",
   "execution_count": 25,
   "id": "11ce7622",
   "metadata": {},
   "outputs": [
    {
     "data": {
      "text/plain": [
       "dict_items([('Name', 'Mitu'), ('Institution', 'DGOV'), ('Dept', 'Bangla')])"
      ]
     },
     "execution_count": 25,
     "metadata": {},
     "output_type": "execute_result"
    }
   ],
   "source": [
    "info.items()"
   ]
  },
  {
   "cell_type": "code",
   "execution_count": 26,
   "id": "bab310b4",
   "metadata": {},
   "outputs": [],
   "source": [
    "info.clear()"
   ]
  },
  {
   "cell_type": "code",
   "execution_count": 27,
   "id": "4ea11418",
   "metadata": {},
   "outputs": [
    {
     "data": {
      "text/plain": [
       "{}"
      ]
     },
     "execution_count": 27,
     "metadata": {},
     "output_type": "execute_result"
    }
   ],
   "source": [
    "info"
   ]
  },
  {
   "cell_type": "code",
   "execution_count": null,
   "id": "05f3967d",
   "metadata": {},
   "outputs": [],
   "source": []
  }
 ],
 "metadata": {
  "kernelspec": {
   "display_name": "Python 3 (ipykernel)",
   "language": "python",
   "name": "python3"
  },
  "language_info": {
   "codemirror_mode": {
    "name": "ipython",
    "version": 3
   },
   "file_extension": ".py",
   "mimetype": "text/x-python",
   "name": "python",
   "nbconvert_exporter": "python",
   "pygments_lexer": "ipython3",
   "version": "3.11.5"
  }
 },
 "nbformat": 4,
 "nbformat_minor": 5
}
