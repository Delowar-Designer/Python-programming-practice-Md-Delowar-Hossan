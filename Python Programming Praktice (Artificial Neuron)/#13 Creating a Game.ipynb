{
 "cells": [
  {
   "cell_type": "code",
   "execution_count": null,
   "id": "8fdd10ad",
   "metadata": {},
   "outputs": [],
   "source": [
    "from random import randint\n",
    "option_list = ['Rock', 'Paper', 'Scissors']\n",
    "\n",
    "player = False\n",
    "while player == False:\n",
    "    player = input(\"Whats your play? Rock, paperr of Scissors?\")\n",
    "    if player == computer:\n",
    "        print(\"Tie!\")\n",
    "    elif player == 'Rock':\n",
    "        if computer == 'Paper':\n",
    "            print(\"You Lose!\")\n",
    "        else:\n",
    "            print(\"You Win!!\")\n",
    "        \n",
    "    elif player == 'Paper':\n",
    "        if computer == 'Scissors':\n",
    "            print(\"You Lose!\")\n",
    "        else:\n",
    "            print(\"You Win!!\")\n",
    "    \n",
    "    elif player == 'Scissors':\n",
    "        if computer == 'Rock':\n",
    "            print(\"You Lose!\")\n",
    "        else:\n",
    "            print(\"You Win!!\")\n",
    "    else:\n",
    "        print(\"Your innput is not valid. Spell correctly.\")\n",
    "    player = False\n",
    "    computer = option_list[randint(0,2)]"
   ]
  },
  {
   "cell_type": "code",
   "execution_count": null,
   "id": "9f3d1f12",
   "metadata": {},
   "outputs": [],
   "source": [
    "computer"
   ]
  },
  {
   "cell_type": "code",
   "execution_count": null,
   "id": "b0f1b7e8",
   "metadata": {},
   "outputs": [],
   "source": []
  },
  {
   "cell_type": "code",
   "execution_count": null,
   "id": "d42d67fa",
   "metadata": {},
   "outputs": [],
   "source": []
  },
  {
   "cell_type": "code",
   "execution_count": null,
   "id": "77141f03",
   "metadata": {},
   "outputs": [],
   "source": []
  },
  {
   "cell_type": "code",
   "execution_count": null,
   "id": "ad67c1bc",
   "metadata": {},
   "outputs": [],
   "source": []
  },
  {
   "cell_type": "code",
   "execution_count": null,
   "id": "f619fffe",
   "metadata": {},
   "outputs": [],
   "source": []
  }
 ],
 "metadata": {
  "kernelspec": {
   "display_name": "Python 3 (ipykernel)",
   "language": "python",
   "name": "python3"
  },
  "language_info": {
   "codemirror_mode": {
    "name": "ipython",
    "version": 3
   },
   "file_extension": ".py",
   "mimetype": "text/x-python",
   "name": "python",
   "nbconvert_exporter": "python",
   "pygments_lexer": "ipython3",
   "version": "3.11.5"
  }
 },
 "nbformat": 4,
 "nbformat_minor": 5
}
