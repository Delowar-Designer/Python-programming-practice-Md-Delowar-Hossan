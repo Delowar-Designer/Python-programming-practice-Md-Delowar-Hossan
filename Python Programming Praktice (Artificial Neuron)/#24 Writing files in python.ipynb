{
 "cells": [
  {
   "cell_type": "code",
   "execution_count": 9,
   "id": "b7e5b47d",
   "metadata": {},
   "outputs": [
    {
     "name": "stdout",
     "output_type": "stream",
     "text": [
      "3\n",
      "s is the 1st line.\n",
      "Delowar is the best place to learn python.\n",
      "we love Python. python is the best.\n"
     ]
    }
   ],
   "source": [
    "with open(\"new_file.txt\",'w+') as file:\n",
    "    file.write('This is the 1st line.\\n')\n",
    "    file.write('Delowar is the best place to learn python.\\n')\n",
    "    file.write('we love Python. python is the best.')\n",
    "    #print(file.readable())\n",
    "    #print(file.writable())\n",
    "    file.seek(3)\n",
    "    print(file.tell())\n",
    "    print(file.read())"
   ]
  },
  {
   "cell_type": "code",
   "execution_count": 10,
   "id": "e1122f3f",
   "metadata": {},
   "outputs": [],
   "source": [
    "with open('new_file1.txt','x') as file:\n",
    "    file.write(\"Helo ther! I from the just created file. this is programer Delowar.Designer\")"
   ]
  },
  {
   "cell_type": "code",
   "execution_count": null,
   "id": "24027068",
   "metadata": {},
   "outputs": [],
   "source": []
  },
  {
   "cell_type": "code",
   "execution_count": null,
   "id": "c53ae85e",
   "metadata": {},
   "outputs": [],
   "source": []
  },
  {
   "cell_type": "code",
   "execution_count": null,
   "id": "1359057a",
   "metadata": {},
   "outputs": [],
   "source": []
  },
  {
   "cell_type": "code",
   "execution_count": null,
   "id": "4dfe8883",
   "metadata": {},
   "outputs": [],
   "source": []
  },
  {
   "cell_type": "code",
   "execution_count": null,
   "id": "07e65986",
   "metadata": {},
   "outputs": [],
   "source": []
  },
  {
   "cell_type": "code",
   "execution_count": null,
   "id": "46f3a140",
   "metadata": {},
   "outputs": [],
   "source": []
  },
  {
   "cell_type": "code",
   "execution_count": null,
   "id": "2129f909",
   "metadata": {},
   "outputs": [],
   "source": []
  },
  {
   "cell_type": "code",
   "execution_count": null,
   "id": "90233cc8",
   "metadata": {},
   "outputs": [],
   "source": []
  },
  {
   "cell_type": "code",
   "execution_count": null,
   "id": "ebedab57",
   "metadata": {},
   "outputs": [],
   "source": []
  }
 ],
 "metadata": {
  "kernelspec": {
   "display_name": "Python 3 (ipykernel)",
   "language": "python",
   "name": "python3"
  },
  "language_info": {
   "codemirror_mode": {
    "name": "ipython",
    "version": 3
   },
   "file_extension": ".py",
   "mimetype": "text/x-python",
   "name": "python",
   "nbconvert_exporter": "python",
   "pygments_lexer": "ipython3",
   "version": "3.11.5"
  }
 },
 "nbformat": 4,
 "nbformat_minor": 5
}
