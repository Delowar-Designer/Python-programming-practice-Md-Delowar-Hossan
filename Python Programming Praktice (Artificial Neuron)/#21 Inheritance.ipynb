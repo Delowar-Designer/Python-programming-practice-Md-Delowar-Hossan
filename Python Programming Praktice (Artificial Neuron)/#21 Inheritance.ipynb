{
 "cells": [
  {
   "cell_type": "code",
   "execution_count": 5,
   "id": "1a2d2f2d",
   "metadata": {},
   "outputs": [],
   "source": [
    "class Person:\n",
    "    def __init__(self, name, age):\n",
    "        self.name = name\n",
    "        self.age = age\n",
    "        print(\"This is from parent/base class\")\n",
    "    \n",
    "    def hobby(self):\n",
    "        print('Person love travelling.')"
   ]
  },
  {
   "cell_type": "code",
   "execution_count": 6,
   "id": "7ec5bbd5",
   "metadata": {},
   "outputs": [
    {
     "name": "stdout",
     "output_type": "stream",
     "text": [
      "This is from parent/base class\n"
     ]
    }
   ],
   "source": [
    "person1 = Person(\"Delowar Hossan\", 19)"
   ]
  },
  {
   "cell_type": "code",
   "execution_count": 7,
   "id": "000afac7",
   "metadata": {},
   "outputs": [
    {
     "name": "stdout",
     "output_type": "stream",
     "text": [
      "Person love travelling.\n"
     ]
    }
   ],
   "source": [
    "person1.hobby()"
   ]
  },
  {
   "cell_type": "code",
   "execution_count": null,
   "id": "908b3227",
   "metadata": {},
   "outputs": [],
   "source": []
  },
  {
   "cell_type": "code",
   "execution_count": 11,
   "id": "dbc5e762",
   "metadata": {},
   "outputs": [],
   "source": [
    "class Student(Person):\n",
    "    def __init__(self, name, age):\n",
    "        Person.__init__(self, name, age)\n",
    "        \n",
    "    def hobby(self):\n",
    "        print(\"Student loves playing football\")"
   ]
  },
  {
   "cell_type": "code",
   "execution_count": null,
   "id": "512428a5",
   "metadata": {},
   "outputs": [],
   "source": []
  },
  {
   "cell_type": "code",
   "execution_count": null,
   "id": "e29cd2b5",
   "metadata": {},
   "outputs": [],
   "source": []
  },
  {
   "cell_type": "code",
   "execution_count": 12,
   "id": "af3303ef",
   "metadata": {},
   "outputs": [
    {
     "name": "stdout",
     "output_type": "stream",
     "text": [
      "This is from parent/base class\n"
     ]
    }
   ],
   "source": [
    "student1 = Student(\"Mitu\",12)"
   ]
  },
  {
   "cell_type": "code",
   "execution_count": null,
   "id": "a1070d62",
   "metadata": {},
   "outputs": [],
   "source": []
  },
  {
   "cell_type": "code",
   "execution_count": 13,
   "id": "cbad4450",
   "metadata": {},
   "outputs": [
    {
     "name": "stdout",
     "output_type": "stream",
     "text": [
      "Student loves playing football\n"
     ]
    }
   ],
   "source": [
    "student1.hobby()"
   ]
  },
  {
   "cell_type": "code",
   "execution_count": null,
   "id": "11f3f115",
   "metadata": {},
   "outputs": [],
   "source": []
  },
  {
   "cell_type": "code",
   "execution_count": null,
   "id": "53c84b1f",
   "metadata": {},
   "outputs": [],
   "source": []
  },
  {
   "cell_type": "code",
   "execution_count": null,
   "id": "4f3e0d22",
   "metadata": {},
   "outputs": [],
   "source": []
  }
 ],
 "metadata": {
  "kernelspec": {
   "display_name": "Python 3 (ipykernel)",
   "language": "python",
   "name": "python3"
  },
  "language_info": {
   "codemirror_mode": {
    "name": "ipython",
    "version": 3
   },
   "file_extension": ".py",
   "mimetype": "text/x-python",
   "name": "python",
   "nbconvert_exporter": "python",
   "pygments_lexer": "ipython3",
   "version": "3.11.5"
  }
 },
 "nbformat": 4,
 "nbformat_minor": 5
}
