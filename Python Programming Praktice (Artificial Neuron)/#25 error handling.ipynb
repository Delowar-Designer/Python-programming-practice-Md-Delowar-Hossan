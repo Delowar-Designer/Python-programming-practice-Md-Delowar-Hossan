{
 "cells": [
  {
   "cell_type": "code",
   "execution_count": null,
   "id": "9639db69",
   "metadata": {},
   "outputs": [],
   "source": [
    "print(10 + \"Delowar\")"
   ]
  },
  {
   "cell_type": "code",
   "execution_count": null,
   "id": "beda3cfd",
   "metadata": {},
   "outputs": [],
   "source": [
    "try:\n",
    "    print(10/0)\n",
    "except:\n",
    "    print('Error! you Cannot add str and int.')"
   ]
  },
  {
   "cell_type": "code",
   "execution_count": null,
   "id": "baad253c",
   "metadata": {},
   "outputs": [],
   "source": [
    "try:\n",
    "    n = int(input(\"Enter a number:\"))\n",
    "    a = 10/n\n",
    "    print(a)\n",
    "except:\n",
    "    print('Errer!')\n",
    "finally:\n",
    "    print(\"Whatever happens I am always cool.\")"
   ]
  },
  {
   "cell_type": "code",
   "execution_count": 14,
   "id": "0b73e43d",
   "metadata": {},
   "outputs": [
    {
     "name": "stdout",
     "output_type": "stream",
     "text": [
      "Enter a number:x\n",
      "Whatever happens I am always cool.\n"
     ]
    },
    {
     "ename": "ValueError",
     "evalue": "invalid literal for int() with base 10: 'x'",
     "output_type": "error",
     "traceback": [
      "\u001b[1;31m---------------------------------------------------------------------------\u001b[0m",
      "\u001b[1;31mValueError\u001b[0m                                Traceback (most recent call last)",
      "Cell \u001b[1;32mIn[14], line 2\u001b[0m\n\u001b[0;32m      1\u001b[0m \u001b[38;5;28;01mtry\u001b[39;00m:\n\u001b[1;32m----> 2\u001b[0m     x \u001b[38;5;241m=\u001b[39m \u001b[38;5;28mint\u001b[39m(\u001b[38;5;28minput\u001b[39m(\u001b[38;5;124m'\u001b[39m\u001b[38;5;124mEnter a number:\u001b[39m\u001b[38;5;124m'\u001b[39m))\n\u001b[0;32m      3\u001b[0m     b \u001b[38;5;241m=\u001b[39m \u001b[38;5;241m10\u001b[39m\u001b[38;5;241m/\u001b[39m\u001b[38;5;241m0\u001b[39m\n\u001b[0;32m      4\u001b[0m     \u001b[38;5;28mprint\u001b[39m(b)\n",
      "\u001b[1;31mValueError\u001b[0m: invalid literal for int() with base 10: 'x'"
     ]
    }
   ],
   "source": [
    "try:\n",
    "    x = int(input('Enter a number:'))\n",
    "    b = 10/0\n",
    "    print(b)\n",
    "except ZeroDivisionError as e:\n",
    "    print(e)\n",
    "except TypeError as e:\n",
    "    print(e)\n",
    "finally:\n",
    "    print(\"Whatever happens I am always cool.\")"
   ]
  },
  {
   "cell_type": "code",
   "execution_count": null,
   "id": "e949c3d4",
   "metadata": {},
   "outputs": [],
   "source": []
  },
  {
   "cell_type": "code",
   "execution_count": null,
   "id": "ea2f17e9",
   "metadata": {},
   "outputs": [],
   "source": []
  },
  {
   "cell_type": "code",
   "execution_count": null,
   "id": "3a089151",
   "metadata": {},
   "outputs": [],
   "source": [
    "s"
   ]
  },
  {
   "cell_type": "code",
   "execution_count": null,
   "id": "2174443a",
   "metadata": {},
   "outputs": [],
   "source": []
  }
 ],
 "metadata": {
  "kernelspec": {
   "display_name": "Python 3 (ipykernel)",
   "language": "python",
   "name": "python3"
  },
  "language_info": {
   "codemirror_mode": {
    "name": "ipython",
    "version": 3
   },
   "file_extension": ".py",
   "mimetype": "text/x-python",
   "name": "python",
   "nbconvert_exporter": "python",
   "pygments_lexer": "ipython3",
   "version": "3.11.5"
  }
 },
 "nbformat": 4,
 "nbformat_minor": 5
}
