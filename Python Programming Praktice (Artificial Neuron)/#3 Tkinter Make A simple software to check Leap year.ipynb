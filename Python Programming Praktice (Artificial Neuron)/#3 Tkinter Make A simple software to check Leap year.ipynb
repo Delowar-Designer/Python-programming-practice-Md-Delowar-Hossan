{
 "cells": [
  {
   "cell_type": "code",
   "execution_count": 4,
   "id": "3bdd6f57",
   "metadata": {},
   "outputs": [],
   "source": [
    "import tkinter as tk"
   ]
  },
  {
   "cell_type": "code",
   "execution_count": 9,
   "id": "5eaede85",
   "metadata": {},
   "outputs": [
    {
     "name": "stdout",
     "output_type": "stream",
     "text": [
      "2021 is leap year\n",
      "2022 is leap year\n"
     ]
    }
   ],
   "source": [
    "root = tk.Tk()\n",
    "canvas = tk.Canvas(root, width = 400, height =300)\n",
    "canvas.pack()\n",
    "\n",
    "def leapyear():\n",
    "    year = int(entry.get())\n",
    "    if year%4 == 0 and year%100 !=0:\n",
    "        print('{} is leap year'.format(year))\n",
    "    else:\n",
    "        print('{} is leap year'.format(year))\n",
    "        \n",
    "label = tk.Label(root, text = 'Input Year').place(x=120, y = 110)\n",
    "entry = tk.Entry(root)\n",
    "canvas.create_window(250, 120, window = entry)\n",
    "button = tk.Button(root, text = 'Check', command = leapyear).place(x = 220, y = 160)\n",
    "root.mainloop()"
   ]
  },
  {
   "cell_type": "code",
   "execution_count": null,
   "id": "0c8cdc90",
   "metadata": {},
   "outputs": [],
   "source": []
  }
 ],
 "metadata": {
  "kernelspec": {
   "display_name": "Python 3 (ipykernel)",
   "language": "python",
   "name": "python3"
  },
  "language_info": {
   "codemirror_mode": {
    "name": "ipython",
    "version": 3
   },
   "file_extension": ".py",
   "mimetype": "text/x-python",
   "name": "python",
   "nbconvert_exporter": "python",
   "pygments_lexer": "ipython3",
   "version": "3.11.5"
  }
 },
 "nbformat": 4,
 "nbformat_minor": 5
}
