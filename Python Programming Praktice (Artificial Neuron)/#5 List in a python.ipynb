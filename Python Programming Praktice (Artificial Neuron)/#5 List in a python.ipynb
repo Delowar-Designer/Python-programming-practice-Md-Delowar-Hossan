{
 "cells": [
  {
   "cell_type": "code",
   "execution_count": 1,
   "id": "7995965b",
   "metadata": {},
   "outputs": [],
   "source": [
    "farnd = [\"Joty\", \"Mitu\", \"Yafta\", \"Majdur\", \"Delowar\", \"Monere\"]"
   ]
  },
  {
   "cell_type": "code",
   "execution_count": 2,
   "id": "588198ee",
   "metadata": {},
   "outputs": [
    {
     "data": {
      "text/plain": [
       "['Joty', 'Mitu', 'Yafta', 'Majdur', 'Delowar', 'Monere']"
      ]
     },
     "execution_count": 2,
     "metadata": {},
     "output_type": "execute_result"
    }
   ],
   "source": [
    "farnd "
   ]
  },
  {
   "cell_type": "code",
   "execution_count": 3,
   "id": "8e8b26ae",
   "metadata": {},
   "outputs": [],
   "source": [
    "numbers = [1,2,3,4,5]"
   ]
  },
  {
   "cell_type": "code",
   "execution_count": 4,
   "id": "f75f9d02",
   "metadata": {},
   "outputs": [
    {
     "data": {
      "text/plain": [
       "[1, 2, 3, 4, 5]"
      ]
     },
     "execution_count": 4,
     "metadata": {},
     "output_type": "execute_result"
    }
   ],
   "source": [
    "numbers"
   ]
  },
  {
   "cell_type": "code",
   "execution_count": 5,
   "id": "d5fe41bc",
   "metadata": {},
   "outputs": [],
   "source": [
    "number2 = list('12345')"
   ]
  },
  {
   "cell_type": "code",
   "execution_count": 6,
   "id": "d55acefb",
   "metadata": {},
   "outputs": [
    {
     "data": {
      "text/plain": [
       "['1', '2', '3', '4', '5']"
      ]
     },
     "execution_count": 6,
     "metadata": {},
     "output_type": "execute_result"
    }
   ],
   "source": [
    "number2"
   ]
  },
  {
   "cell_type": "code",
   "execution_count": 7,
   "id": "3d7ae269",
   "metadata": {},
   "outputs": [
    {
     "data": {
      "text/plain": [
       "'Joty'"
      ]
     },
     "execution_count": 7,
     "metadata": {},
     "output_type": "execute_result"
    }
   ],
   "source": [
    "farnd[0]"
   ]
  },
  {
   "cell_type": "code",
   "execution_count": 8,
   "id": "968ef374",
   "metadata": {},
   "outputs": [
    {
     "ename": "NameError",
     "evalue": "name 'Favourite' is not defined",
     "output_type": "error",
     "traceback": [
      "\u001b[1;31m---------------------------------------------------------------------------\u001b[0m",
      "\u001b[1;31mNameError\u001b[0m                                 Traceback (most recent call last)",
      "Cell \u001b[1;32mIn[8], line 1\u001b[0m\n\u001b[1;32m----> 1\u001b[0m \u001b[38;5;28mprint\u001b[39m(\u001b[38;5;124m\"\u001b[39m\u001b[38;5;132;01m{0}\u001b[39;00m\u001b[38;5;124m is my farnd\u001b[39m\u001b[38;5;124m\"\u001b[39m\u001b[38;5;241m.\u001b[39mformat(Favourite[\u001b[38;5;241m0\u001b[39m]))\n",
      "\u001b[1;31mNameError\u001b[0m: name 'Favourite' is not defined"
     ]
    }
   ],
   "source": [
    "print(\"{0} is my farnd\".format(Favourite[0]))"
   ]
  },
  {
   "cell_type": "code",
   "execution_count": 9,
   "id": "ca4d5c8b",
   "metadata": {},
   "outputs": [
    {
     "name": "stdout",
     "output_type": "stream",
     "text": [
      "Joty is my Favourite farnd\n"
     ]
    }
   ],
   "source": [
    "print(\"{0} is my Favourite farnd\".format(farnd[0]))"
   ]
  },
  {
   "cell_type": "code",
   "execution_count": 10,
   "id": "a224988d",
   "metadata": {},
   "outputs": [
    {
     "name": "stdout",
     "output_type": "stream",
     "text": [
      "Mitu is my Favourite farnd\n"
     ]
    }
   ],
   "source": [
    "print(\"{0} is my Favourite farnd\".format(farnd[1]))"
   ]
  },
  {
   "cell_type": "code",
   "execution_count": 11,
   "id": "3065db13",
   "metadata": {},
   "outputs": [],
   "source": [
    "farnd.append('Shimia')"
   ]
  },
  {
   "cell_type": "code",
   "execution_count": 12,
   "id": "8af5cf1e",
   "metadata": {},
   "outputs": [
    {
     "data": {
      "text/plain": [
       "['Joty', 'Mitu', 'Yafta', 'Majdur', 'Delowar', 'Monere', 'Shimia']"
      ]
     },
     "execution_count": 12,
     "metadata": {},
     "output_type": "execute_result"
    }
   ],
   "source": [
    "farnd"
   ]
  },
  {
   "cell_type": "code",
   "execution_count": 13,
   "id": "617a0a3c",
   "metadata": {},
   "outputs": [],
   "source": [
    "farnd.insert(5, \"Munsifa\")"
   ]
  },
  {
   "cell_type": "code",
   "execution_count": 14,
   "id": "d818a731",
   "metadata": {},
   "outputs": [
    {
     "data": {
      "text/plain": [
       "['Joty', 'Mitu', 'Yafta', 'Majdur', 'Delowar', 'Munsifa', 'Monere', 'Shimia']"
      ]
     },
     "execution_count": 14,
     "metadata": {},
     "output_type": "execute_result"
    }
   ],
   "source": [
    "farnd"
   ]
  },
  {
   "cell_type": "code",
   "execution_count": 15,
   "id": "2759d499",
   "metadata": {},
   "outputs": [],
   "source": [
    "farnd.remove(\"Munsifa\")"
   ]
  },
  {
   "cell_type": "code",
   "execution_count": 16,
   "id": "2976e492",
   "metadata": {},
   "outputs": [
    {
     "data": {
      "text/plain": [
       "['Joty', 'Mitu', 'Yafta', 'Majdur', 'Delowar', 'Monere', 'Shimia']"
      ]
     },
     "execution_count": 16,
     "metadata": {},
     "output_type": "execute_result"
    }
   ],
   "source": [
    "farnd"
   ]
  },
  {
   "cell_type": "code",
   "execution_count": 17,
   "id": "2d964f8c",
   "metadata": {},
   "outputs": [],
   "source": [
    "mylist = [4,7,4,2,8,10]"
   ]
  },
  {
   "cell_type": "code",
   "execution_count": 18,
   "id": "6205cea1",
   "metadata": {},
   "outputs": [],
   "source": [
    "mylist.sort()"
   ]
  },
  {
   "cell_type": "code",
   "execution_count": 19,
   "id": "c3057df9",
   "metadata": {},
   "outputs": [
    {
     "data": {
      "text/plain": [
       "[2, 4, 4, 7, 8, 10]"
      ]
     },
     "execution_count": 19,
     "metadata": {},
     "output_type": "execute_result"
    }
   ],
   "source": [
    "mylist"
   ]
  },
  {
   "cell_type": "code",
   "execution_count": 20,
   "id": "7ee09165",
   "metadata": {},
   "outputs": [
    {
     "data": {
      "text/plain": [
       "1"
      ]
     },
     "execution_count": 20,
     "metadata": {},
     "output_type": "execute_result"
    }
   ],
   "source": [
    "mylist.count(2)"
   ]
  },
  {
   "cell_type": "code",
   "execution_count": 21,
   "id": "5f3d4382",
   "metadata": {},
   "outputs": [
    {
     "ename": "AttributeError",
     "evalue": "'list' object has no attribute 'revrse'",
     "output_type": "error",
     "traceback": [
      "\u001b[1;31m---------------------------------------------------------------------------\u001b[0m",
      "\u001b[1;31mAttributeError\u001b[0m                            Traceback (most recent call last)",
      "Cell \u001b[1;32mIn[21], line 1\u001b[0m\n\u001b[1;32m----> 1\u001b[0m mylist\u001b[38;5;241m.\u001b[39mrevrse()\n",
      "\u001b[1;31mAttributeError\u001b[0m: 'list' object has no attribute 'revrse'"
     ]
    }
   ],
   "source": [
    "mylist.revrse()"
   ]
  },
  {
   "cell_type": "code",
   "execution_count": 22,
   "id": "6037b6f1",
   "metadata": {},
   "outputs": [],
   "source": [
    "mylist.reverse()"
   ]
  },
  {
   "cell_type": "code",
   "execution_count": 23,
   "id": "29f0fe5e",
   "metadata": {},
   "outputs": [
    {
     "data": {
      "text/plain": [
       "[10, 8, 7, 4, 4, 2]"
      ]
     },
     "execution_count": 23,
     "metadata": {},
     "output_type": "execute_result"
    }
   ],
   "source": [
    "mylist"
   ]
  },
  {
   "cell_type": "code",
   "execution_count": 24,
   "id": "e973d3c3",
   "metadata": {},
   "outputs": [
    {
     "data": {
      "text/plain": [
       "6"
      ]
     },
     "execution_count": 24,
     "metadata": {},
     "output_type": "execute_result"
    }
   ],
   "source": [
    "len(mylist)"
   ]
  },
  {
   "cell_type": "code",
   "execution_count": 25,
   "id": "72a79802",
   "metadata": {},
   "outputs": [
    {
     "data": {
      "text/plain": [
       "10"
      ]
     },
     "execution_count": 25,
     "metadata": {},
     "output_type": "execute_result"
    }
   ],
   "source": [
    "max(mylist)"
   ]
  },
  {
   "cell_type": "code",
   "execution_count": 26,
   "id": "4db3117c",
   "metadata": {},
   "outputs": [
    {
     "data": {
      "text/plain": [
       "2"
      ]
     },
     "execution_count": 26,
     "metadata": {},
     "output_type": "execute_result"
    }
   ],
   "source": [
    "min(mylist)"
   ]
  },
  {
   "cell_type": "code",
   "execution_count": 27,
   "id": "9b3d4389",
   "metadata": {},
   "outputs": [
    {
     "data": {
      "text/plain": [
       "35"
      ]
     },
     "execution_count": 27,
     "metadata": {},
     "output_type": "execute_result"
    }
   ],
   "source": [
    "sum(mylist)"
   ]
  },
  {
   "cell_type": "code",
   "execution_count": 28,
   "id": "afcf7ce3",
   "metadata": {},
   "outputs": [
    {
     "data": {
      "text/plain": [
       "['Joty', 'Mitu', 'Yafta', 'Majdur', 'Delowar', 'Monere', 'Shimia']"
      ]
     },
     "execution_count": 28,
     "metadata": {},
     "output_type": "execute_result"
    }
   ],
   "source": [
    "farnd"
   ]
  },
  {
   "cell_type": "code",
   "execution_count": 29,
   "id": "78a13773",
   "metadata": {},
   "outputs": [
    {
     "ename": "NameError",
     "evalue": "name 'enmerate' is not defined",
     "output_type": "error",
     "traceback": [
      "\u001b[1;31m---------------------------------------------------------------------------\u001b[0m",
      "\u001b[1;31mNameError\u001b[0m                                 Traceback (most recent call last)",
      "Cell \u001b[1;32mIn[29], line 1\u001b[0m\n\u001b[1;32m----> 1\u001b[0m enmerate(farnd)\n",
      "\u001b[1;31mNameError\u001b[0m: name 'enmerate' is not defined"
     ]
    }
   ],
   "source": [
    "enmerate(farnd)"
   ]
  },
  {
   "cell_type": "code",
   "execution_count": 30,
   "id": "ee5bbb03",
   "metadata": {},
   "outputs": [
    {
     "data": {
      "text/plain": [
       "<enumerate at 0x208488afbf0>"
      ]
     },
     "execution_count": 30,
     "metadata": {},
     "output_type": "execute_result"
    }
   ],
   "source": [
    "enumerate(farnd)"
   ]
  },
  {
   "cell_type": "code",
   "execution_count": 31,
   "id": "68102267",
   "metadata": {},
   "outputs": [
    {
     "name": "stdout",
     "output_type": "stream",
     "text": [
      "[(0, 'Joty'), (1, 'Mitu'), (2, 'Yafta'), (3, 'Majdur'), (4, 'Delowar'), (5, 'Monere'), (6, 'Shimia')]\n"
     ]
    }
   ],
   "source": [
    "print(list(enumerate(farnd)))"
   ]
  },
  {
   "cell_type": "code",
   "execution_count": null,
   "id": "e0cfec80",
   "metadata": {},
   "outputs": [],
   "source": []
  }
 ],
 "metadata": {
  "kernelspec": {
   "display_name": "Python 3 (ipykernel)",
   "language": "python",
   "name": "python3"
  },
  "language_info": {
   "codemirror_mode": {
    "name": "ipython",
    "version": 3
   },
   "file_extension": ".py",
   "mimetype": "text/x-python",
   "name": "python",
   "nbconvert_exporter": "python",
   "pygments_lexer": "ipython3",
   "version": "3.11.5"
  }
 },
 "nbformat": 4,
 "nbformat_minor": 5
}
