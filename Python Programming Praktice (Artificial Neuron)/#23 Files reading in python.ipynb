{
 "cells": [
  {
   "cell_type": "code",
   "execution_count": 1,
   "id": "09797650",
   "metadata": {},
   "outputs": [],
   "source": [
    "doc = open(\"football.txt\",'r')"
   ]
  },
  {
   "cell_type": "code",
   "execution_count": 8,
   "id": "fea2130d",
   "metadata": {},
   "outputs": [
    {
     "name": "stdout",
     "output_type": "stream",
     "text": [
      "lskjr oklsj f \n",
      "\n"
     ]
    }
   ],
   "source": [
    "print(doc.readline())"
   ]
  },
  {
   "cell_type": "code",
   "execution_count": null,
   "id": "d94fa6e0",
   "metadata": {},
   "outputs": [],
   "source": []
  },
  {
   "cell_type": "code",
   "execution_count": 9,
   "id": "eca2c962",
   "metadata": {},
   "outputs": [
    {
     "data": {
      "text/plain": [
       "0"
      ]
     },
     "execution_count": 9,
     "metadata": {},
     "output_type": "execute_result"
    }
   ],
   "source": [
    "doc.seek(0)"
   ]
  },
  {
   "cell_type": "code",
   "execution_count": 10,
   "id": "752ff9c8",
   "metadata": {},
   "outputs": [],
   "source": [
    "doc.close()"
   ]
  },
  {
   "cell_type": "code",
   "execution_count": 11,
   "id": "1301df4f",
   "metadata": {},
   "outputs": [
    {
     "name": "stdout",
     "output_type": "stream",
     "text": [
      "lskjr oklsj f \n",
      "\n"
     ]
    }
   ],
   "source": [
    "with open(\"football.txt\",'r') as doc1:\n",
    "    print(doc1.readline())"
   ]
  },
  {
   "cell_type": "code",
   "execution_count": 12,
   "id": "6fbb8153",
   "metadata": {},
   "outputs": [
    {
     "ename": "ValueError",
     "evalue": "I/O operation on closed file.",
     "output_type": "error",
     "traceback": [
      "\u001b[1;31m---------------------------------------------------------------------------\u001b[0m",
      "\u001b[1;31mValueError\u001b[0m                                Traceback (most recent call last)",
      "Cell \u001b[1;32mIn[12], line 1\u001b[0m\n\u001b[1;32m----> 1\u001b[0m \u001b[38;5;28mprint\u001b[39m(doc1\u001b[38;5;241m.\u001b[39mreadline())\n",
      "\u001b[1;31mValueError\u001b[0m: I/O operation on closed file."
     ]
    }
   ],
   "source": [
    "print(doc1.readline())"
   ]
  },
  {
   "cell_type": "code",
   "execution_count": 17,
   "id": "40b6caef",
   "metadata": {},
   "outputs": [
    {
     "name": "stdout",
     "output_type": "stream",
     "text": [
      "lskjr oklsj f \n",
      "\n",
      "sljsf[ \n",
      "\n",
      "jsdlsefj\n",
      "\n",
      "ljsoprj\n",
      "\n",
      "josjr\n",
      "\n",
      "lsjoprwpowi s\n",
      "\n",
      "foipwiwl v\n",
      "\n",
      "spffw vjo\n",
      "\n",
      "pf \n",
      "\n",
      "sofjslf\n",
      "\n",
      "lsjr \n",
      "\n",
      "sjlsjr\n",
      "\n",
      "sljro \n",
      "\n",
      "osjor\n"
     ]
    }
   ],
   "source": [
    "with open(\"football.txt\",'r') as doc1:\n",
    "    #print(doc1.read())\n",
    "    lines = doc1.readlines()\n",
    "    #print(lines[0:3])\n",
    "    for line in lines:\n",
    "        print(line)"
   ]
  },
  {
   "cell_type": "code",
   "execution_count": null,
   "id": "2e43bb1e",
   "metadata": {},
   "outputs": [],
   "source": []
  },
  {
   "cell_type": "code",
   "execution_count": null,
   "id": "042bb082",
   "metadata": {},
   "outputs": [],
   "source": []
  },
  {
   "cell_type": "code",
   "execution_count": null,
   "id": "ffe74b20",
   "metadata": {},
   "outputs": [],
   "source": []
  },
  {
   "cell_type": "code",
   "execution_count": null,
   "id": "4f0c8bc6",
   "metadata": {},
   "outputs": [],
   "source": []
  },
  {
   "cell_type": "code",
   "execution_count": null,
   "id": "92b0b936",
   "metadata": {},
   "outputs": [],
   "source": []
  },
  {
   "cell_type": "code",
   "execution_count": null,
   "id": "f0a529fd",
   "metadata": {},
   "outputs": [],
   "source": []
  },
  {
   "cell_type": "code",
   "execution_count": null,
   "id": "1b99e572",
   "metadata": {},
   "outputs": [],
   "source": []
  },
  {
   "cell_type": "code",
   "execution_count": null,
   "id": "eb714a2f",
   "metadata": {},
   "outputs": [],
   "source": []
  },
  {
   "cell_type": "code",
   "execution_count": null,
   "id": "5063f5da",
   "metadata": {},
   "outputs": [],
   "source": []
  },
  {
   "cell_type": "code",
   "execution_count": null,
   "id": "5ce2b9f7",
   "metadata": {},
   "outputs": [],
   "source": []
  }
 ],
 "metadata": {
  "kernelspec": {
   "display_name": "Python 3 (ipykernel)",
   "language": "python",
   "name": "python3"
  },
  "language_info": {
   "codemirror_mode": {
    "name": "ipython",
    "version": 3
   },
   "file_extension": ".py",
   "mimetype": "text/x-python",
   "name": "python",
   "nbconvert_exporter": "python",
   "pygments_lexer": "ipython3",
   "version": "3.11.5"
  }
 },
 "nbformat": 4,
 "nbformat_minor": 5
}
